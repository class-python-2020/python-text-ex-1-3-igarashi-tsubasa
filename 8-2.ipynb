{
 "metadata": {
  "language_info": {
   "codemirror_mode": {
    "name": "ipython",
    "version": 3
   },
   "file_extension": ".py",
   "mimetype": "text/x-python",
   "name": "python",
   "nbconvert_exporter": "python",
   "pygments_lexer": "ipython3",
   "version": 3
  },
  "orig_nbformat": 2,
  "kernelspec": {
   "name": "python_defaultSpec_1597279968480",
   "display_name": "Python 3.8.2 32-bit"
  }
 },
 "nbformat": 4,
 "nbformat_minor": 2,
 "cells": [
  {
   "cell_type": "code",
   "execution_count": 3,
   "metadata": {},
   "outputs": [],
   "source": [
    "import pathlib\n",
    "p = pathlib.Path('.')"
   ]
  },
  {
   "cell_type": "code",
   "execution_count": 4,
   "metadata": {},
   "outputs": [],
   "source": [
    "import pathlib\n",
    "file = pathlib.Path('sample.txt')"
   ]
  },
  {
   "cell_type": "code",
   "execution_count": null,
   "metadata": {},
   "outputs": [],
   "source": [
    "p.resolve()"
   ]
  },
  {
   "cell_type": "code",
   "execution_count": 8,
   "metadata": {},
   "outputs": [],
   "source": [
    "import pathlib\n",
    "q = pathlib.Path('sample.txt')\n",
    "qs = str(q)"
   ]
  },
  {
   "cell_type": "code",
   "execution_count": 9,
   "metadata": {
    "tags": []
   },
   "outputs": [
    {
     "output_type": "stream",
     "name": "stdout",
     "text": ".git\n.gitignore\n.vscode\n2-01.ipynb\n2-10.ipynb\n2-11.ipynb\n2-12.ipynb\n2-13.ipynb\n2-3.ipynb\n2-4.ipynb\n2-5.ipynb\n2-6.ipynb\n2-7.ipynb\n2-8.ipynb\n2-9.ipynb\n3-1.ipynb\n3-2.ipynb\n3-3.ipynb\n3-5.ipynb\n3-6.ipynb\n3-7.ipynb\n3-8.ipynb\n4-1.ipynb\n4-2.ipynb\n4-3.ipynb\n4-4.ipynb\n4-5.ipynb\n4-6.ipynb\n4-7.ipynb\n4-8.ipynb\n4-9.ipynb\n5-1.ipynb\n5-10.ipynb\n5-2.ipynb\n5-3.ipynb\n5-4.ipynb\n5-5.ipynb\n5-6.ipynb\n5-7.ipynb\n5-8.ipynb\n5-9.ipynb\n6-1.ipynb\n6-2.ipynb\n6-3.ipynb\n6-4.ipynb\n6-5.ipynb\n6-6.ipynb\n7-1.ipynb\n7-2.ipynb\n7-3.ipynb\n7-4.ipynb\n8-1.ipynb\n8-2.ipynb\niut_tset.tst\nmy_math.py\nmy_math2.py\nmy_module.py\nmy_module1.py\nmy_module2.py\nmy_package\nREADME.md\nsample.pkl\nsample.txt\nsome.txt\ntest.dat\ntest.pkl\n__pycache__\n"
    }
   ],
   "source": [
    "import pathlib\n",
    "p = pathlib.Path('.')\n",
    "for fd in p.iterdir():\n",
    "    print(fd)"
   ]
  },
  {
   "cell_type": "code",
   "execution_count": 10,
   "metadata": {
    "tags": []
   },
   "outputs": [
    {
     "output_type": "stream",
     "name": "stdout",
     "text": "[WindowsPath('my_math.py'), WindowsPath('my_math2.py'), WindowsPath('my_module.py'), WindowsPath('my_module1.py'), WindowsPath('my_module2.py')]\n"
    }
   ],
   "source": [
    "import pathlib\n",
    "p = pathlib.Path('.')\n",
    "print(list(p.glob('*.py')))"
   ]
  },
  {
   "cell_type": "code",
   "execution_count": 11,
   "metadata": {
    "tags": []
   },
   "outputs": [
    {
     "output_type": "stream",
     "name": "stdout",
     "text": "False\n"
    }
   ],
   "source": [
    "import pathlib\n",
    "file = pathlib.Path('aaa/bbb.txt')\n",
    "print(file.exists())"
   ]
  },
  {
   "cell_type": "code",
   "execution_count": 12,
   "metadata": {
    "tags": []
   },
   "outputs": [
    {
     "output_type": "stream",
     "name": "stdout",
     "text": "False\n"
    }
   ],
   "source": [
    "import pathlib\n",
    "p = pathlib.Path('aaa/bbb.txt')\n",
    "print(p.is_file())"
   ]
  },
  {
   "cell_type": "code",
   "execution_count": 13,
   "metadata": {
    "tags": []
   },
   "outputs": [
    {
     "output_type": "stream",
     "name": "stdout",
     "text": "False\n"
    }
   ],
   "source": [
    "import pathlib\n",
    "p = pathlib.Path('aaa/bbb.txt')\n",
    "print(p.is_dir())"
   ]
  },
  {
   "cell_type": "code",
   "execution_count": 14,
   "metadata": {
    "tags": []
   },
   "outputs": [
    {
     "output_type": "stream",
     "name": "stdout",
     "text": "\\aaa\\test.txt\n"
    }
   ],
   "source": [
    "import pathlib\n",
    "root = pathlib.Path('/')\n",
    "pp = root / 'aaa' / 'test.txt'   # 演算子「/」によるパスの連結\n",
    "print(pp)"
   ]
  },
  {
   "cell_type": "code",
   "execution_count": 15,
   "metadata": {
    "tags": []
   },
   "outputs": [
    {
     "output_type": "stream",
     "name": "stdout",
     "text": "\\aaa\\test.txt\n"
    }
   ],
   "source": [
    "import pathlib\n",
    "p = pathlib.Path('/')\n",
    "pp2 = p.joinpath('aaa','test.txt')\n",
    "print(pp2)"
   ]
  },
  {
   "cell_type": "code",
   "execution_count": 16,
   "metadata": {
    "tags": []
   },
   "outputs": [
    {
     "output_type": "stream",
     "name": "stdout",
     "text": "..\n"
    }
   ],
   "source": [
    "import pathlib\n",
    "p = pathlib.Path('.')\n",
    "pp = p.joinpath('..')\n",
    "print(pp)"
   ]
  },
  {
   "cell_type": "code",
   "execution_count": 17,
   "metadata": {
    "tags": []
   },
   "outputs": [
    {
     "output_type": "stream",
     "name": "stdout",
     "text": ".gitignore\n2-01.ipynb\n2-10.ipynb\n2-11.ipynb\n2-12.ipynb\n2-13.ipynb\n2-3.ipynb\n2-4.ipynb\n2-5.ipynb\n2-6.ipynb\n2-7.ipynb\n2-8.ipynb\n2-9.ipynb\n3-1.ipynb\n3-2.ipynb\n3-3.ipynb\n3-5.ipynb\n3-6.ipynb\n3-7.ipynb\n3-8.ipynb\n4-1.ipynb\n4-2.ipynb\n4-3.ipynb\n4-4.ipynb\n4-5.ipynb\n4-6.ipynb\n4-7.ipynb\n4-8.ipynb\n4-9.ipynb\n5-1.ipynb\n5-10.ipynb\n5-2.ipynb\n5-3.ipynb\n5-4.ipynb\n5-5.ipynb\n5-6.ipynb\n5-7.ipynb\n5-8.ipynb\n5-9.ipynb\n6-1.ipynb\n6-2.ipynb\n6-3.ipynb\n6-4.ipynb\n6-5.ipynb\n6-6.ipynb\n7-1.ipynb\n7-2.ipynb\n7-3.ipynb\n7-4.ipynb\n8-1.ipynb\n8-2.ipynb\niut_tset.tst\nmy_math.py\nmy_math2.py\nmy_module.py\nmy_module1.py\nmy_module2.py\nREADME.md\nsample.pkl\nsample.txt\nsome.txt\ntest.dat\ntest.pkl\n"
    }
   ],
   "source": [
    "import pathlib\n",
    "p = pathlib.Path('.')\n",
    "for pf in p.iterdir():\n",
    "    if pf.is_file():\n",
    "        print(str(pf))"
   ]
  },
  {
   "cell_type": "code",
   "execution_count": 18,
   "metadata": {},
   "outputs": [],
   "source": [
    "import pathlib\n",
    "p = pathlib.Path('.')\n",
    "for pf in p.glob('a*'):\n",
    "    if pf.is_dir():\n",
    "        print(pf)"
   ]
  }
 ]
}
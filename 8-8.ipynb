{
 "metadata": {
  "language_info": {
   "codemirror_mode": {
    "name": "ipython",
    "version": 3
   },
   "file_extension": ".py",
   "mimetype": "text/x-python",
   "name": "python",
   "nbconvert_exporter": "python",
   "pygments_lexer": "ipython3",
   "version": "3.8.2-final"
  },
  "orig_nbformat": 2,
  "kernelspec": {
   "name": "python_defaultSpec_1597385655925",
   "display_name": "Python 3.8.2 32-bit"
  }
 },
 "nbformat": 4,
 "nbformat_minor": 2,
 "cells": [
  {
   "cell_type": "code",
   "execution_count": 8,
   "metadata": {},
   "outputs": [
    {
     "output_type": "error",
     "ename": "OperationalError",
     "evalue": "table Employee already exists",
     "traceback": [
      "\u001b[1;31m---------------------------------------------------------------------------\u001b[0m",
      "\u001b[1;31mOperationalError\u001b[0m                          Traceback (most recent call last)",
      "\u001b[1;32m<ipython-input-8-ecec8fefa754>\u001b[0m in \u001b[0;36m<module>\u001b[1;34m\u001b[0m\n\u001b[0;32m     14\u001b[0m \u001b[1;31m# テーブルを作成\u001b[0m\u001b[1;33m\u001b[0m\u001b[1;33m\u001b[0m\u001b[1;33m\u001b[0m\u001b[0m\n\u001b[0;32m     15\u001b[0m \u001b[0msql\u001b[0m \u001b[1;33m=\u001b[0m \u001b[1;34m'create table Employee(name,email,department,position);'\u001b[0m\u001b[1;33m\u001b[0m\u001b[1;33m\u001b[0m\u001b[0m\n\u001b[1;32m---> 16\u001b[1;33m \u001b[0mcsr\u001b[0m\u001b[1;33m.\u001b[0m\u001b[0mexecute\u001b[0m\u001b[1;33m(\u001b[0m\u001b[0msql\u001b[0m\u001b[1;33m)\u001b[0m\u001b[1;33m\u001b[0m\u001b[1;33m\u001b[0m\u001b[0m\n\u001b[0m\u001b[0;32m     17\u001b[0m \u001b[1;33m\u001b[0m\u001b[0m\n\u001b[0;32m     18\u001b[0m \u001b[1;31m# 保存\u001b[0m\u001b[1;33m\u001b[0m\u001b[1;33m\u001b[0m\u001b[1;33m\u001b[0m\u001b[0m\n",
      "\u001b[1;31mOperationalError\u001b[0m: table Employee already exists"
     ]
    }
   ],
   "source": [
    "import sqlite3\n",
    "\n",
    "# sample.db という名前のデータベースファイル\n",
    "db = 'samlpe.db'\n",
    "\n",
    "# データベースに接続：Connectionオブジェクトを作成\n",
    "# データベースがすでに存在するときはそのまま接続\n",
    "# データベースがないときは新しく作成して接続\n",
    "con = sqlite3.connect(db)\n",
    "\n",
    "# カーソルオブジェクトを作成    \n",
    "csr = con.cursor()\n",
    "\n",
    "# テーブルを作成\n",
    "sql = 'create table Employee(name,email,department,position);'\n",
    "csr.execute(sql)\n",
    "\n",
    "# 保存\n",
    "con.commit()\n",
    "\n",
    "# 接続を終了\n",
    "con.close()"
   ]
  },
  {
   "cell_type": "code",
   "execution_count": 9,
   "metadata": {},
   "outputs": [
    {
     "output_type": "error",
     "ename": "OperationalError",
     "evalue": "no such table: Employee",
     "traceback": [
      "\u001b[1;31m---------------------------------------------------------------------------\u001b[0m",
      "\u001b[1;31mOperationalError\u001b[0m                          Traceback (most recent call last)",
      "\u001b[1;32m<ipython-input-9-c14de35b59ed>\u001b[0m in \u001b[0;36m<module>\u001b[1;34m\u001b[0m\n\u001b[0;32m     13\u001b[0m \u001b[0msql\u001b[0m \u001b[1;33m=\u001b[0m\u001b[0;31m \u001b[0m\u001b[0;31m\"\u001b[0m\u001b[0minsert\u001b[0m \u001b[0minto\u001b[0m \u001b[0mEmployee\u001b[0m\u001b[1;33m(\u001b[0m\u001b[0mname\u001b[0m\u001b[1;33m,\u001b[0m\u001b[0memail\u001b[0m\u001b[1;33m,\u001b[0m\u001b[0mdepartment\u001b[0m\u001b[1;33m,\u001b[0m\u001b[0mposition\u001b[0m\u001b[1;33m)\u001b[0m\u001b[0;31m \u001b[0m\u001b[0;31m\\\u001b[0m\u001b[1;33m\u001b[0m\u001b[1;33m\u001b[0m\u001b[0m\n\u001b[0;32m     14\u001b[0m \u001b[0mvalues\u001b[0m\u001b[1;33m(\u001b[0m\u001b[1;34m'Yamada'\u001b[0m\u001b[1;33m,\u001b[0m\u001b[1;34m'yamada@abcxyz.co.jp'\u001b[0m\u001b[1;33m,\u001b[0m\u001b[1;34m'Sales'\u001b[0m\u001b[1;33m,\u001b[0m\u001b[1;34m'staff'\u001b[0m\u001b[1;33m)\u001b[0m\u001b[1;33m;\u001b[0m\u001b[0;31m\"\u001b[0m\u001b[1;33m\u001b[0m\u001b[1;33m\u001b[0m\u001b[0m\n\u001b[1;32m---> 15\u001b[1;33m \u001b[0mcsr\u001b[0m\u001b[1;33m.\u001b[0m\u001b[0mexecute\u001b[0m\u001b[1;33m(\u001b[0m\u001b[0msql\u001b[0m\u001b[1;33m)\u001b[0m\u001b[1;33m\u001b[0m\u001b[1;33m\u001b[0m\u001b[0m\n\u001b[0m\u001b[0;32m     16\u001b[0m \u001b[0msql\u001b[0m \u001b[1;33m=\u001b[0m\u001b[0;31m \u001b[0m\u001b[0;31m\"\u001b[0m\u001b[0minsert\u001b[0m \u001b[0minto\u001b[0m \u001b[0mEmployee\u001b[0m\u001b[1;33m(\u001b[0m\u001b[0mname\u001b[0m\u001b[1;33m,\u001b[0m\u001b[0memail\u001b[0m\u001b[1;33m,\u001b[0m\u001b[0mdepartment\u001b[0m\u001b[1;33m,\u001b[0m\u001b[0mposition\u001b[0m\u001b[1;33m)\u001b[0m\u001b[0;31m \u001b[0m\u001b[0;31m\\\u001b[0m\u001b[1;33m\u001b[0m\u001b[1;33m\u001b[0m\u001b[0m\n\u001b[0;32m     17\u001b[0m \u001b[0mvalues\u001b[0m\u001b[1;33m(\u001b[0m\u001b[1;34m'Suzuki'\u001b[0m\u001b[1;33m,\u001b[0m\u001b[1;34m'suzuki@abcxyz.co.jp'\u001b[0m\u001b[1;33m,\u001b[0m\u001b[1;34m'Development'\u001b[0m\u001b[1;33m,\u001b[0m\u001b[1;34m'staff'\u001b[0m\u001b[1;33m)\u001b[0m\u001b[1;33m;\u001b[0m\u001b[0;31m\"\u001b[0m\u001b[1;33m\u001b[0m\u001b[1;33m\u001b[0m\u001b[0m\n",
      "\u001b[1;31mOperationalError\u001b[0m: no such table: Employee"
     ]
    }
   ],
   "source": [
    "import sqlite3\n",
    "\n",
    "# sample,db という名前のデータベースファイル\n",
    "db = 'sample.db'\n",
    "\n",
    "# データベースに接続\n",
    "con = sqlite3.connect(db)\n",
    "\n",
    "# カーソルオブジェクトを作成\n",
    "csr = con.cursor()\n",
    "\n",
    "# デーブルにデータを格納\n",
    "sql = \"insert into Employee(name,email,department,position) \\\n",
    "values('Yamada','yamada@abcxyz.co.jp','Sales','staff');\"\n",
    "csr.execute(sql)\n",
    "sql = \"insert into Employee(name,email,department,position) \\\n",
    "values('Suzuki','suzuki@abcxyz.co.jp','Development','staff');\"\n",
    "csr.execute(sql)\n",
    "\n",
    "# この時点の内容を確認\n",
    "sql = 'select * from Employee;'\n",
    "csr.execute(sql)\n",
    "print(csr.fetchall())\n",
    "\n",
    "# テーブルからデータを削除\n",
    "sql = \"dalete from Employee where name = 'Yamada';\"\n",
    "csr.execute()\n",
    "\n",
    "# この時点で内容を確認\n",
    "sql = \"select * from Employee;\"\n",
    "csr.execute()\n",
    "print(csr.fetchall())\n",
    "\n",
    "# テーブルの中のデータを更新\n",
    "sql = \"update Employee set position = 'Manager' where name = 'Suzuki';\"\n",
    "csr.execute()\n",
    "\n",
    "# 保存\n",
    "con.commit()\n",
    "\n",
    "# なお用を読み取って表示\n",
    "sql = \"select * fron Employee;\"\n",
    "csr.execute()\n",
    "print(csr.fetchall())\n",
    "\n",
    "# 接続を終了\n",
    "con.close()"
   ]
  },
  {
   "cell_type": "code",
   "execution_count": 10,
   "metadata": {},
   "outputs": [
    {
     "output_type": "error",
     "ename": "OperationalError",
     "evalue": "no such table: data_set",
     "traceback": [
      "\u001b[1;31m---------------------------------------------------------------------------\u001b[0m",
      "\u001b[1;31mOperationalError\u001b[0m                          Traceback (most recent call last)",
      "\u001b[1;32m<ipython-input-10-28c38117db1b>\u001b[0m in \u001b[0;36m<module>\u001b[1;34m\u001b[0m\n\u001b[1;32m----> 1\u001b[1;33m \u001b[0mcsr\u001b[0m\u001b[1;33m.\u001b[0m\u001b[0mexecute\u001b[0m\u001b[1;33m(\u001b[0m\u001b[1;34m'drop table data_set'\u001b[0m\u001b[1;33m)\u001b[0m\u001b[1;33m\u001b[0m\u001b[1;33m\u001b[0m\u001b[0m\n\u001b[0m\u001b[0;32m      2\u001b[0m \u001b[0mcon\u001b[0m\u001b[1;33m.\u001b[0m\u001b[0mcommit\u001b[0m\u001b[1;33m(\u001b[0m\u001b[1;33m)\u001b[0m\u001b[1;33m\u001b[0m\u001b[1;33m\u001b[0m\u001b[0m\n",
      "\u001b[1;31mOperationalError\u001b[0m: no such table: data_set"
     ]
    }
   ],
   "source": [
    "csr.execute('drop table data_set')\n",
    "con.commit()"
   ]
  },
  {
   "cell_type": "code",
   "execution_count": 11,
   "metadata": {
    "tags": []
   },
   "outputs": [
    {
     "output_type": "stream",
     "name": "stdout",
     "text": "[('Ichiro', 'Lazer'), ('jiro', None), ('Saburo', None)]\n"
    }
   ],
   "source": [
    "import sqlite3\n",
    "\n",
    "db = 'test.db'\n",
    "con = sqlite3.connect(db)\n",
    "csr = con.cursor()\n",
    "\n",
    "csr.execute('create table human(name,nickname);')\n",
    "\n",
    "csr.execute(\"insert into human(name) values('Ichiro');\")\n",
    "csr.execute(\"insert into human(name) values('jiro');\")\n",
    "csr.execute(\"insert into human(name) values('Saburo');\")\n",
    "\n",
    "csr.execute(\"update human set nickname = 'Lazer' where name = 'Ichiro';\")\n",
    "\n",
    "csr.execute(\"select * from human;\")\n",
    "print(csr.fetchall())\n",
    "\n",
    "con.commit()\n",
    "con.close()"
   ]
  },
  {
   "cell_type": "code",
   "execution_count": 12,
   "metadata": {},
   "outputs": [],
   "source": [
    "import sqlite3"
   ]
  },
  {
   "cell_type": "code",
   "execution_count": 13,
   "metadata": {},
   "outputs": [],
   "source": [
    "db = 'test.db'\n",
    "con = sqlite3.connect(db)\n",
    "csr = con.cursor()"
   ]
  },
  {
   "cell_type": "code",
   "execution_count": null,
   "metadata": {},
   "outputs": [],
   "source": [
    "csr.execute('create table human(name,nickname);')"
   ]
  },
  {
   "cell_type": "code",
   "execution_count": null,
   "metadata": {},
   "outputs": [],
   "source": [
    "csr.execute(\"insert into human(name) values('Ichiro');\")\n",
    "csr.execute(\"insert into human(name) values('jiro');\")\n",
    "csr.execute(\"insert into human(name) values('Saburo');\")"
   ]
  },
  {
   "cell_type": "code",
   "execution_count": null,
   "metadata": {},
   "outputs": [],
   "source": [
    "csr.execute(\"update human set nickname = 'Lazer' where name = 'Ichiro';\")"
   ]
  },
  {
   "cell_type": "code",
   "execution_count": null,
   "metadata": {},
   "outputs": [],
   "source": [
    "csr.execute(\"select * from human;\")\n",
    "print(csr.fetchall())\n",
    "\n",
    "con.commit()\n",
    "con.close()"
   ]
  },
  {
   "cell_type": "markdown",
   "metadata": {},
   "source": []
  },
  {
   "cell_type": "code",
   "execution_count": 19,
   "metadata": {
    "tags": []
   },
   "outputs": [
    {
     "output_type": "stream",
     "name": "stdout",
     "text": "[('jiro', None), ('Saburo', None)]\n"
    }
   ],
   "source": [
    "import sqlite3\n",
    "\n",
    "db = 'test.db'\n",
    "con = sqlite3.connect(db)\n",
    "csr = con.cursor()\n",
    "\n",
    "csr.execute(\"update human set nickname = 'Lazer' where name = 'Jiro';\")\n",
    "\n",
    "csr.execute(\"delete from human where nickname = 'Lazer';\")\n",
    "\n",
    "csr.execute(\"select * from human;\")\n",
    "print(csr.fetchall())\n",
    "\n",
    "con.commit()\n",
    "con.close()"
   ]
  },
  {
   "cell_type": "code",
   "execution_count": null,
   "metadata": {},
   "outputs": [],
   "source": [
    "csr.execute(\"update human set nickname = 'Lazer' where name = 'Jiro';\")"
   ]
  },
  {
   "cell_type": "code",
   "execution_count": null,
   "metadata": {},
   "outputs": [],
   "source": [
    "csr.execute(\"delete from human where nickname = 'Lazer';\")"
   ]
  }
 ]
}
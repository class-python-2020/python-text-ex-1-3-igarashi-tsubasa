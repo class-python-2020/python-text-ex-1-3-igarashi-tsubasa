{
 "metadata": {
  "language_info": {
   "codemirror_mode": {
    "name": "ipython",
    "version": 3
   },
   "file_extension": ".py",
   "mimetype": "text/x-python",
   "name": "python",
   "nbconvert_exporter": "python",
   "pygments_lexer": "ipython3",
   "version": "3.8.2-final"
  },
  "orig_nbformat": 2,
  "kernelspec": {
   "name": "python_defaultSpec_1597391382542",
   "display_name": "Python 3.8.2 32-bit"
  }
 },
 "nbformat": 4,
 "nbformat_minor": 2,
 "cells": [
  {
   "cell_type": "code",
   "execution_count": 2,
   "metadata": {
    "tags": []
   },
   "outputs": [
    {
     "output_type": "stream",
     "name": "stderr",
     "text": "WARNING:root:warning level message\nERROR:root:error level message\nCRITICAL:root:critical level message\n"
    }
   ],
   "source": [
    "import logging\n",
    "logging.debug('debug level message')\n",
    "logging.info('info level message')\n",
    "logging.warning('warning level message')\n",
    "logging.error('error level message')\n",
    "logging.critical('critical level message')"
   ]
  },
  {
   "cell_type": "code",
   "execution_count": 4,
   "metadata": {
    "tags": []
   },
   "outputs": [
    {
     "output_type": "stream",
     "name": "stderr",
     "text": "WARNING:root:test warining output\n"
    }
   ],
   "source": [
    "import logging\n",
    "logging.basicConfig(filename='test1.log', level=logging.DEBUG)\n",
    "logging.debug('logfile open')\n",
    "logging.info('test info output')\n",
    "logging.warning('test warining output')"
   ]
  },
  {
   "cell_type": "code",
   "execution_count": null,
   "metadata": {},
   "outputs": [],
   "source": [
    "DEBUG:root:logfile open\n",
    "INFO:root:test info output\n",
    "WARMING:root:test warining output"
   ]
  },
  {
   "cell_type": "code",
   "execution_count": null,
   "metadata": {},
   "outputs": [],
   "source": [
    "import logging\n",
    "logging.basicConfig(filename='test1.log',level=logging.WARNING)\n",
    "logging.debug('logfile open : level = warning')\n",
    "logging.info('test info output : level = warning')\n",
    "logging.warinig('test warining output : level = warning')"
   ]
  },
  {
   "cell_type": "code",
   "execution_count": null,
   "metadata": {},
   "outputs": [],
   "source": [
    "WARMING:root:test warining output : level  = warning"
   ]
  },
  {
   "cell_type": "markdown",
   "metadata": {},
   "source": []
  },
  {
   "cell_type": "code",
   "execution_count": null,
   "metadata": {},
   "outputs": [],
   "source": [
    "import logging\n",
    "\n",
    "logging.basicConfig(filename='test1.log',level=logging.WARNING,format='%(levelname)s:%(asctime)s:%(message)s')\n",
    "logging.warning('test warning format output')"
   ]
  },
  {
   "cell_type": "code",
   "execution_count": null,
   "metadata": {},
   "outputs": [],
   "source": [
    "WARMING:2019-05-06 22:36:42,454:test warning format output"
   ]
  },
  {
   "cell_type": "code",
   "execution_count": null,
   "metadata": {},
   "outputs": [],
   "source": [
    "import logging\n",
    "import myprocess\n",
    "\n",
    "def main():\n",
    "    logging.basicConfig(filename='test2.log',level=logging.INFO)\n",
    "    logging.info('main.py call myprocess1 function')\n",
    "\n",
    "if __name__=='__main__':\n",
    "    main()"
   ]
  },
  {
   "cell_type": "markdown",
   "metadata": {},
   "source": []
  },
  {
   "cell_type": "code",
   "execution_count": null,
   "metadata": {},
   "outputs": [],
   "source": [
    "import logging\n",
    "\n",
    "def process1():\n",
    "    logging.info('myprocess.py process1 start')"
   ]
  },
  {
   "cell_type": "code",
   "execution_count": null,
   "metadata": {},
   "outputs": [],
   "source": [
    "INFO:root:main.oy call myprocess1 function\n",
    "INFO:root:myprocess.py process1 start\n",
    "INFO:root:main.py main function exit"
   ]
  },
  {
   "cell_type": "markdown",
   "metadata": {},
   "source": []
  },
  {
   "cell_type": "code",
   "execution_count": null,
   "metadata": {},
   "outputs": [],
   "source": [
    "import logging\n",
    "\n",
    "logging.basicConfig(filename='test3.log',level=logging.WARNING)\n",
    "test_data = [1,3,6]\n",
    "\n",
    "try:\n",
    "    raise Exception\n",
    "except:\n",
    "    logging.exception('test exception message :%s', test_data)"
   ]
  },
  {
   "cell_type": "code",
   "execution_count": null,
   "metadata": {},
   "outputs": [],
   "source": [
    "ERROR:root:test exception message:[1,3,6]\n",
    "Traceback (most recent call last):\n",
    " File\"<ipython-input-1-34a116fc5db>\",line 5, in <module>\n",
    "   raise Exception\n",
    "Exception"
   ]
  },
  {
   "cell_type": "code",
   "execution_count": null,
   "metadata": {},
   "outputs": [],
   "source": [
    "import logging\n",
    "\n",
    "def davide(x1,x2) :\n",
    "    return x1 / x2\n",
    "\n",
    "logging.basicConfig(filename='test.log',level=logging.WARNING,format='%(levelname)s:%(asctime)s:%(message)s')\n",
    "try:\n",
    "    ret = davide(10,0)\n",
    "except:\n",
    "    logger.exception('test exception massage')\n",
    "logging.shutdown()"
   ]
  }
 ]
}